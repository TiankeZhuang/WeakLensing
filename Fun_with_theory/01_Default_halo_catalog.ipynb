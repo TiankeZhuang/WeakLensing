{
 "cells": [
  {
   "cell_type": "markdown",
   "metadata": {},
   "source": [
    "## Default halo catalog\n",
    "Halotools has some default halo catalog that one can use. These catalogs can be downloaded from the command line with \n",
    "\n",
    "```\n",
    "$ download_initial halocat.py\n",
    "```\n",
    "\n",
    "or with the DownloadManager tool in halotools. This functionality can be achieved using two methods: download_processed_halo_table and download_ptcl_table. \n",
    "\n",
    "The download_processed_halo_table methods takes positional arguments: simname, halo_finder, and redshift. For example, to download catalog using simulation bolplanck, using halo finder rockstar, at redshift z=0.5: "
   ]
  },
  {
   "cell_type": "code",
   "execution_count": null,
   "metadata": {},
   "outputs": [],
   "source": [
    "from halotools.sim_manager import DownloadManager\n",
    "dman = DownloadManager()\n",
    "dman.download_processed_halo_table('bolplanck', 'rockstar', 0.5)"
   ]
  },
  {
   "cell_type": "markdown",
   "metadata": {},
   "source": [
    "The download location will be stored in the cache log. To load the information into memory, use the CachedHaloCatalog class:"
   ]
  },
  {
   "cell_type": "code",
   "execution_count": 15,
   "metadata": {},
   "outputs": [],
   "source": [
    "from halotools.sim_manager import CachedHaloCatalog\n",
    "halocat = CachedHaloCatalog(simname = 'bolplanck', halo_finder = 'rockstar', redshift = 0.5)"
   ]
  },
  {
   "cell_type": "markdown",
   "metadata": {},
   "source": [
    "Access the content of the catalog:"
   ]
  },
  {
   "cell_type": "code",
   "execution_count": 17,
   "metadata": {},
   "outputs": [
    {
     "name": "stdout",
     "output_type": "stream",
     "text": [
      "halo_vmax_firstacc halo_dmvir_dt_tdyn ... halo_hostid halo_mvir_host_halo\n",
      "------------------ ------------------ ... ----------- -------------------\n",
      "            978.45             9427.0 ...  2153866040   136300000000000.0\n",
      "            121.26             -2.787 ...  2153866040   136300000000000.0\n",
      "             97.81             -3.242 ...  2153866040   136300000000000.0\n",
      "            132.37              -9.91 ...  2153866040   136300000000000.0\n",
      "             79.43             -3.536 ...  2153866040   136300000000000.0\n",
      "            222.48             -7.292 ...  2153866040   136300000000000.0\n",
      "            109.82             -3.522 ...  2153866040   136300000000000.0\n",
      "             95.99             -5.198 ...  2153866040   136300000000000.0\n",
      "            291.28             -221.0 ...  2153866040   136300000000000.0\n"
     ]
    }
   ],
   "source": [
    "print(halocat.halo_table[0:9])"
   ]
  }
 ],
 "metadata": {
  "kernelspec": {
   "display_name": "Python 3",
   "language": "python",
   "name": "python3"
  },
  "language_info": {
   "codemirror_mode": {
    "name": "ipython",
    "version": 3
   },
   "file_extension": ".py",
   "mimetype": "text/x-python",
   "name": "python",
   "nbconvert_exporter": "python",
   "pygments_lexer": "ipython3",
   "version": "3.7.6"
  }
 },
 "nbformat": 4,
 "nbformat_minor": 4
}
