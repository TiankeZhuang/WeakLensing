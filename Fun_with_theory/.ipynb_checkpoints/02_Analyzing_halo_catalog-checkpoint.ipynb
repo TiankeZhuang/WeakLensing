{
 "cells": [
  {
   "cell_type": "markdown",
   "metadata": {},
   "source": [
    "# Analysing halo catalog: Basic\n",
    "\n",
    "This notebook demonstrates how information in Halotools-formatted halo catalogs is organized."
   ]
  },
  {
   "cell_type": "code",
   "execution_count": 1,
   "metadata": {},
   "outputs": [
    {
     "name": "stdout",
     "output_type": "stream",
     "text": [
      "halo_vmax_firstacc halo_dmvir_dt_tdyn ... halo_hostid halo_mvir_host_halo\n",
      "------------------ ------------------ ... ----------- -------------------\n",
      "            952.39            10670.0 ...  3060299107   164300000000000.0\n",
      "            823.11            12860.0 ...  3060312953   158900000000000.0\n",
      "            799.42             5633.0 ...  3058440575   114400000000000.0\n",
      "            679.37            14900.0 ...  3058441456    97090000000000.0\n",
      "            735.68             3519.0 ...  3058452345    85270000000000.0\n",
      "            696.86             6331.0 ...  3058463669    84260000000000.0\n",
      "            681.43             5579.0 ...  3058683023    83570000000000.0\n",
      "            668.98             5497.0 ...  3060115960    77950000000000.0\n",
      "            654.46             8205.0 ...  3058477222    72840000000000.0\n"
     ]
    }
   ],
   "source": [
    "from halotools import sim_manager\n",
    "halocat = sim_manager.CachedHaloCatalog()\n",
    "print(halocat.halo_table[0:9])"
   ]
  },
  {
   "cell_type": "markdown",
   "metadata": {},
   "source": [
    "We can access the arguments of this catalog using:"
   ]
  },
  {
   "cell_type": "code",
   "execution_count": 2,
   "metadata": {},
   "outputs": [
    {
     "name": "stdout",
     "output_type": "stream",
     "text": [
      "b'bolshoi' b'rockstar' -0.0003\n"
     ]
    }
   ],
   "source": [
    "print(halocat.simname, halocat.halo_finder, halocat.redshift)"
   ]
  },
  {
   "cell_type": "markdown",
   "metadata": {},
   "source": [
    "One can also load alternative catalogs by putting in the arguments:"
   ]
  },
  {
   "cell_type": "code",
   "execution_count": 3,
   "metadata": {},
   "outputs": [],
   "source": [
    "halocat = sim_manager.CachedHaloCatalog(simname = 'bolplanck', redshift = 0.5)"
   ]
  },
  {
   "cell_type": "code",
   "execution_count": 4,
   "metadata": {},
   "outputs": [],
   "source": [
    "halos = halocat.halo_table"
   ]
  },
  {
   "cell_type": "markdown",
   "metadata": {},
   "source": [
    "This makes ```halos``` an Astropy ```Table``` object. One can fiddle with such objects:"
   ]
  },
  {
   "cell_type": "code",
   "execution_count": 6,
   "metadata": {
    "collapsed": true,
    "jupyter": {
     "outputs_hidden": true
    }
   },
   "outputs": [
    {
     "data": {
      "text/plain": [
       "['halo_vmax_firstacc',\n",
       " 'halo_dmvir_dt_tdyn',\n",
       " 'halo_macc',\n",
       " 'halo_scale_factor',\n",
       " 'halo_vmax_mpeak',\n",
       " 'halo_m_pe_behroozi',\n",
       " 'halo_delta_vmax_behroozi17',\n",
       " 'halo_xoff',\n",
       " 'halo_spin',\n",
       " 'halo_tidal_force',\n",
       " 'halo_scale_factor_firstacc',\n",
       " 'halo_c_to_a',\n",
       " 'halo_mvir_firstacc',\n",
       " 'halo_scale_factor_last_mm',\n",
       " 'halo_tidal_id',\n",
       " 'halo_scale_factor_mpeak',\n",
       " 'halo_pid',\n",
       " 'halo_m500c',\n",
       " 'halo_id',\n",
       " 'halo_halfmass_scale_factor',\n",
       " 'halo_upid',\n",
       " 'halo_t_by_u',\n",
       " 'halo_rvir',\n",
       " 'halo_vpeak',\n",
       " 'halo_dmvir_dt_100myr',\n",
       " 'halo_mpeak',\n",
       " 'halo_m_pe_diemer',\n",
       " 'halo_jx',\n",
       " 'halo_jy',\n",
       " 'halo_jz',\n",
       " 'halo_m2500c',\n",
       " 'halo_mvir',\n",
       " 'halo_voff',\n",
       " 'halo_axisA_z',\n",
       " 'halo_axisA_x',\n",
       " 'halo_axisA_y',\n",
       " 'halo_y',\n",
       " 'halo_b_to_a',\n",
       " 'halo_x',\n",
       " 'halo_z',\n",
       " 'halo_m200b',\n",
       " 'halo_vacc',\n",
       " 'halo_scale_factor_lastacc',\n",
       " 'halo_vmax',\n",
       " 'halo_m200c',\n",
       " 'halo_vx',\n",
       " 'halo_vy',\n",
       " 'halo_vz',\n",
       " 'halo_dmvir_dt_inst',\n",
       " 'halo_tidal_force_tdyn',\n",
       " 'halo_rs',\n",
       " 'halo_nfw_conc',\n",
       " 'halo_hostid',\n",
       " 'halo_mvir_host_halo']"
      ]
     },
     "execution_count": 6,
     "metadata": {},
     "output_type": "execute_result"
    }
   ],
   "source": [
    "halos.keys()"
   ]
  },
  {
   "cell_type": "code",
   "execution_count": 7,
   "metadata": {
    "collapsed": true,
    "jupyter": {
     "outputs_hidden": true
    }
   },
   "outputs": [
    {
     "name": "stdout",
     "output_type": "stream",
     "text": [
      "<Table length=1505910>\n",
      "           name             dtype \n",
      "-------------------------- -------\n",
      "        halo_vmax_firstacc float32\n",
      "        halo_dmvir_dt_tdyn float32\n",
      "                 halo_macc float32\n",
      "         halo_scale_factor float32\n",
      "           halo_vmax_mpeak float32\n",
      "        halo_m_pe_behroozi float32\n",
      "halo_delta_vmax_behroozi17 float32\n",
      "                 halo_xoff float32\n",
      "                 halo_spin float32\n",
      "          halo_tidal_force float32\n",
      "halo_scale_factor_firstacc float32\n",
      "               halo_c_to_a float32\n",
      "        halo_mvir_firstacc float32\n",
      " halo_scale_factor_last_mm float32\n",
      "             halo_tidal_id   int64\n",
      "   halo_scale_factor_mpeak float32\n",
      "                  halo_pid   int64\n",
      "                halo_m500c float32\n",
      "                   halo_id   int64\n",
      "halo_halfmass_scale_factor float32\n",
      "                 halo_upid   int64\n",
      "               halo_t_by_u float32\n",
      "                 halo_rvir float32\n",
      "                halo_vpeak float32\n",
      "      halo_dmvir_dt_100myr float32\n",
      "                halo_mpeak float32\n",
      "          halo_m_pe_diemer float32\n",
      "                   halo_jx float32\n",
      "                   halo_jy float32\n",
      "                   halo_jz float32\n",
      "               halo_m2500c float32\n",
      "                 halo_mvir float32\n",
      "                 halo_voff float32\n",
      "              halo_axisA_z float32\n",
      "              halo_axisA_x float32\n",
      "              halo_axisA_y float32\n",
      "                    halo_y float32\n",
      "               halo_b_to_a float32\n",
      "                    halo_x float32\n",
      "                    halo_z float32\n",
      "                halo_m200b float32\n",
      "                 halo_vacc float32\n",
      " halo_scale_factor_lastacc float32\n",
      "                 halo_vmax float32\n",
      "                halo_m200c float32\n",
      "                   halo_vx float32\n",
      "                   halo_vy float32\n",
      "                   halo_vz float32\n",
      "        halo_dmvir_dt_inst float32\n",
      "     halo_tidal_force_tdyn float32\n",
      "                   halo_rs float32\n",
      "             halo_nfw_conc float32\n",
      "               halo_hostid   int64\n",
      "       halo_mvir_host_halo float32\n"
     ]
    }
   ],
   "source": [
    "halos.info()"
   ]
  },
  {
   "cell_type": "markdown",
   "metadata": {},
   "source": [
    "The meaning of each column can be found [here](https://halotools.readthedocs.io/en/latest/quickstart_and_tutorials/tutorials/catalog_analysis/halocat_analysis/rockstar_subhalo_nomenclature.html#rockstar-subhalo-nomenclature).\n",
    "\n",
    "**Do all catalog have the same format? (e.g., use the same column names, conventions)**\n",
    "\n",
    "You can put masks on these data to access specific subsets. For example:"
   ]
  },
  {
   "cell_type": "code",
   "execution_count": 10,
   "metadata": {},
   "outputs": [],
   "source": [
    "mask = (halos['halo_mvir'] > 1e12) & (halos['halo_mvir'] < 2e12)\n",
    "subset_halos = halos[mask]"
   ]
  },
  {
   "cell_type": "code",
   "execution_count": null,
   "metadata": {},
   "outputs": [],
   "source": []
  }
 ],
 "metadata": {
  "kernelspec": {
   "display_name": "Python 3",
   "language": "python",
   "name": "python3"
  },
  "language_info": {
   "codemirror_mode": {
    "name": "ipython",
    "version": 3
   },
   "file_extension": ".py",
   "mimetype": "text/x-python",
   "name": "python",
   "nbconvert_exporter": "python",
   "pygments_lexer": "ipython3",
   "version": "3.7.6"
  }
 },
 "nbformat": 4,
 "nbformat_minor": 4
}
