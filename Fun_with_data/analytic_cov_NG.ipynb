{
 "cells": [
  {
   "cell_type": "markdown",
   "metadata": {},
   "source": [
    "# NG Corr #"
   ]
  },
  {
   "cell_type": "code",
   "execution_count": 1,
   "metadata": {},
   "outputs": [
    {
     "name": "stdout",
     "output_type": "stream",
     "text": [
      "Populating the interactive namespace from numpy and matplotlib\n"
     ]
    }
   ],
   "source": [
    "pylab inline"
   ]
  },
  {
   "cell_type": "code",
   "execution_count": 2,
   "metadata": {},
   "outputs": [],
   "source": [
    "import pyccl as ccl\n",
    "import sacc\n",
    "from tjpcov import wigner_transform, bin_cov, parse\n",
    "import pandas as pd\n",
    "from astropy.table import Table\n",
    "from astropy.io import fits\n",
    "import numpy as np\n",
    "import itertools \n",
    "from itertools import permutations\n",
    "import clustering_lensing_v5 as cl"
   ]
  },
  {
   "cell_type": "code",
   "execution_count": 3,
   "metadata": {},
   "outputs": [],
   "source": [
    "d2r = np.pi/180\n",
    "am2d = 1./60.\n",
    "wholesky = 4*(180**2)/np.pi #deg_sq\n",
    "obs_area = 136.9\n",
    "fsky = obs_area/wholesky\n",
    "\n",
    "pz_ranges = np.array([0, 0.3, 0.6, 0.9, 1.2, 1.5, np.inf])\n",
    "mag_ranges = np.array([17, 18, 19, 20, 21, 22, 23, np.inf])\n",
    "min_pz = 0\n",
    "max_pz = 1.5\n",
    "pz_bin_width = 0.05\n",
    "\n",
    "l_pz_ranges = pz_ranges[1:-2]\n",
    "s_pz_ranges = pz_ranges[1:-1]\n",
    "\n",
    "mag_lim_l = 23\n",
    "mag_lim_s = 24.5"
   ]
  },
  {
   "cell_type": "code",
   "execution_count": 4,
   "metadata": {},
   "outputs": [
    {
     "data": {
      "text/plain": [
       "'2.1.0'"
      ]
     },
     "execution_count": 4,
     "metadata": {},
     "output_type": "execute_result"
    }
   ],
   "source": [
    "ccl.__version__"
   ]
  },
  {
   "cell_type": "code",
   "execution_count": 5,
   "metadata": {},
   "outputs": [],
   "source": [
    "cosmo = ccl.Cosmology(Omega_c = 0.27, Omega_b = 0.045, h = 0.67, sigma8 = 0.83, n_s = 0.96,transfer_function='eisenstein_hu')"
   ]
  },
  {
   "cell_type": "code",
   "execution_count": 6,
   "metadata": {},
   "outputs": [],
   "source": [
    "field_name = 'ALL'\n",
    "main_path = 'Data/{}_main.fits'.format(field_name)\n",
    "main = cl.main_df_gen(main_path, pz_lim=max_pz)"
   ]
  },
  {
   "cell_type": "code",
   "execution_count": 7,
   "metadata": {},
   "outputs": [],
   "source": [
    "class Tracer:\n",
    "    def __init__(self, z, nz):\n",
    "        self.z = z\n",
    "        self.nz = nz"
   ]
  },
  {
   "cell_type": "code",
   "execution_count": 8,
   "metadata": {},
   "outputs": [],
   "source": [
    "class TwoPointData:\n",
    "    def __init__(self, df, lbins, sbins, l_pz_range, s_pz_range):\n",
    "        self.df = df\n",
    "        self.lbins = lbins\n",
    "        self.sbins = sbins\n",
    "        self.l_pz_range = l_pz_range\n",
    "        self.s_pz_range = s_pz_range\n",
    "        self.tracers = self.get_all_tracers()\n",
    "        self.metadata = dict()\n",
    "    \n",
    "    def lens_names(self):\n",
    "        names = []\n",
    "        for i in range(self.lbins):\n",
    "            names.append('lens{}'.format(i))\n",
    "        return names\n",
    "    \n",
    "    def src_names(self):\n",
    "        names = []\n",
    "        for i in range(self.sbins):\n",
    "            names.append('src{}'.format(i))\n",
    "        return names\n",
    "    \n",
    "    def get_all_tracers(self):\n",
    "        l_names = self.lens_names()\n",
    "        s_names = self.src_names()\n",
    "        df_l = self.df[self.df.imag_forced_cmodel<mag_lim_l]\n",
    "        df_s = self.df[self.df.imag_forced_cmodel<mag_lim_s]\n",
    "        tracers = dict()\n",
    "        for l in range(self.lbins):\n",
    "            dfw = df_l[df_l.pz_group == self.l_pz_range[l]]\n",
    "            nz, z= np.histogram(dfw.ephor_photoz_best,\n",
    "                                bins=np.arange(min_pz, max_pz+pz_bin_width, pz_bin_width), density=True)\n",
    "            lensTracer = Tracer(z[0:-1], nz)\n",
    "            tracers[l_names[l]]=lensTracer\n",
    "        for s in range(self.sbins):\n",
    "            dfw = df_s[df_s.pz_group > self.s_pz_range[s]]\n",
    "            nz, z= np.histogram(dfw.ephor_photoz_best,\n",
    "                                bins=np.arange(min_pz, max_pz+pz_bin_width, pz_bin_width), density=True)\n",
    "            srcTracer = Tracer(z[0:-1], nz)\n",
    "            tracers[s_names[s]]=srcTracer\n",
    "        return tracers\n",
    "    \n",
    "    def get_tracer(self, tracer_name):\n",
    "        return self.tracers[tracer_name]\n",
    "    \n",
    "    def get_tracer_combinations(self):\n",
    "        l_names = self.lens_names()\n",
    "        s_names = self.src_names()\n",
    "        combi = []\n",
    "        # First: the same lens pairs\n",
    "        for i in range(self.lbins):\n",
    "            combi.append((l_names[i], l_names[i]))\n",
    "        # Second: each lens onto each source\n",
    "        for j in range(self.lbins):\n",
    "            for k in range(self.sbins):\n",
    "                combi.append((l_names[j], s_names[k]))\n",
    "        # Third: all source combi\n",
    "        for l in range(self.sbins):\n",
    "            for m in range(self.sbins):\n",
    "                if m>=l:\n",
    "                    combi.append((s_names[l], s_names[m]))\n",
    "        return combi\n",
    "            \n",
    "        \n",
    "twopoint_data = TwoPointData(main, 3, 3, l_pz_ranges, s_pz_ranges)"
   ]
  },
  {
   "cell_type": "markdown",
   "metadata": {},
   "source": [
    "Now that I have twopoint_data, try changing it to a dictionary"
   ]
  },
  {
   "cell_type": "code",
   "execution_count": 30,
   "metadata": {},
   "outputs": [
    {
     "data": {
      "text/plain": [
       "array([0.00000000e+00, 0.00000000e+00, 0.00000000e+00, 0.00000000e+00,\n",
       "       0.00000000e+00, 0.00000000e+00, 0.00000000e+00, 0.00000000e+00,\n",
       "       0.00000000e+00, 0.00000000e+00, 0.00000000e+00, 0.00000000e+00,\n",
       "       1.29950621e+09, 1.18063904e+09, 1.14052630e+09, 8.33136831e+08,\n",
       "       9.32976357e+08, 7.58628741e+08, 0.00000000e+00, 0.00000000e+00,\n",
       "       0.00000000e+00, 0.00000000e+00, 0.00000000e+00, 0.00000000e+00,\n",
       "       0.00000000e+00, 0.00000000e+00, 0.00000000e+00, 0.00000000e+00,\n",
       "       0.00000000e+00, 0.00000000e+00])"
      ]
     },
     "execution_count": 30,
     "metadata": {},
     "output_type": "execute_result"
    }
   ],
   "source": [
    "twopoint_data.get_tracer('lens1').nz"
   ]
  },
  {
   "cell_type": "code",
   "execution_count": 31,
   "metadata": {},
   "outputs": [
    {
     "data": {
      "text/plain": [
       "array([0.00000000e+00, 0.00000000e+00, 0.00000000e+00, 0.00000000e+00,\n",
       "       0.00000000e+00, 0.00000000e+00, 0.00000000e+00, 0.00000000e+00,\n",
       "       0.00000000e+00, 0.00000000e+00, 0.00000000e+00, 0.00000000e+00,\n",
       "       0.00000000e+00, 0.00000000e+00, 0.00000000e+00, 0.00000000e+00,\n",
       "       0.00000000e+00, 0.00000000e+00, 8.67199828e+08, 7.87229150e+08,\n",
       "       5.04935787e+08, 5.46500859e+08, 7.51890639e+08, 5.85813209e+08,\n",
       "       4.01842193e+08, 4.34526452e+08, 3.59264811e+08, 2.97917261e+08,\n",
       "       3.01915606e+08, 3.06377692e+08])"
      ]
     },
     "execution_count": 31,
     "metadata": {},
     "output_type": "execute_result"
    }
   ],
   "source": [
    "twopoint_data.get_tracer('src1').nz"
   ]
  },
  {
   "cell_type": "code",
   "execution_count": 9,
   "metadata": {},
   "outputs": [],
   "source": [
    "#FIXME: f_sky, ell_bins and th_bins should be passed by sacc. ell0 and th can be decided based on binning or can also be passed by sacc.\n",
    "twopoint_data.metadata['fsky']=fsky\n",
    "twopoint_data.metadata['ell']=np.arange(2,500)\n",
    "twopoint_data.metadata['ell_bins']=np.arange(2,500,20)\n",
    "th_min=0.1/60 # in degrees\n",
    "th_max=100./60\n",
    "n_th_bins=10\n",
    "twopoint_data.metadata['th_bins']=np.logspace(np.log10(th_min),np.log10(th_max),n_th_bins+1)\n",
    "\n",
    "th=np.logspace(np.log10(th_min*0.98),np.log10(1),n_th_bins*30) #covariance is oversampled at th values and then binned.\n",
    "th2=np.linspace(1,th_max*1.02,n_th_bins*30) #binned covariance can be sensitive to the th values. Make sue you check convergence for your application\n",
    "# th2=np.logspace(np.log10(1),np.log10(th_max),60*6)\n",
    "twopoint_data.metadata['th']=np.unique(np.sort(np.append(th,th2)))\n",
    "thb=0.5*(twopoint_data.metadata['th_bins'][1:]+twopoint_data.metadata['th_bins'][:-1])"
   ]
  },
  {
   "cell_type": "code",
   "execution_count": 10,
   "metadata": {},
   "outputs": [
    {
     "data": {
      "text/plain": [
       "array([0.00249605, 0.00498028, 0.00993696, 0.01982685, 0.03955976,\n",
       "       0.07893209, 0.15749023, 0.31423432, 0.6269799 , 1.25098936])"
      ]
     },
     "execution_count": 10,
     "metadata": {},
     "output_type": "execute_result"
    }
   ],
   "source": [
    "thb"
   ]
  },
  {
   "cell_type": "code",
   "execution_count": 11,
   "metadata": {},
   "outputs": [],
   "source": [
    "#The spin based factor to decide the wigner transform. Based on spin of tracers. Sometimes we may use s1_s2 to denote these factors\n",
    "WT_factors={}\n",
    "WT_factors['lens','source']=(0,2)\n",
    "WT_factors['source','lens']=(2,0) #same as (0,2)\n",
    "WT_factors['source','source']={'plus':(2,2),'minus':(2,-2)}\n",
    "WT_factors['lens','lens']=(0,0)"
   ]
  },
  {
   "cell_type": "code",
   "execution_count": 12,
   "metadata": {},
   "outputs": [
    {
     "name": "stdout",
     "output_type": "stream",
     "text": [
      "CPU times: user 281 ms, sys: 5.72 s, total: 6 s\n",
      "Wall time: 7.44 s\n"
     ]
    }
   ],
   "source": [
    "#### Wigner Transform setup... \n",
    "WT_kwargs={'l': twopoint_data.metadata['ell'],'theta': twopoint_data.metadata['th']*d2r,'s1_s2':[(2,2),(2,-2),(0,2),(2,0),(0,0)]}\n",
    "%time WT=wigner_transform(**WT_kwargs)"
   ]
  },
  {
   "cell_type": "code",
   "execution_count": 13,
   "metadata": {},
   "outputs": [
    {
     "data": {
      "text/plain": [
       "[('lens0', 'lens0'),\n",
       " ('lens1', 'lens1'),\n",
       " ('lens2', 'lens2'),\n",
       " ('lens0', 'src0'),\n",
       " ('lens0', 'src1'),\n",
       " ('lens0', 'src2'),\n",
       " ('lens1', 'src0'),\n",
       " ('lens1', 'src1'),\n",
       " ('lens1', 'src2'),\n",
       " ('lens2', 'src0'),\n",
       " ('lens2', 'src1'),\n",
       " ('lens2', 'src2'),\n",
       " ('src0', 'src0'),\n",
       " ('src0', 'src1'),\n",
       " ('src0', 'src2'),\n",
       " ('src1', 'src1'),\n",
       " ('src1', 'src2'),\n",
       " ('src2', 'src2')]"
      ]
     },
     "execution_count": 13,
     "metadata": {},
     "output_type": "execute_result"
    }
   ],
   "source": [
    "twopoint_data.get_tracer_combinations()"
   ]
  },
  {
   "cell_type": "code",
   "execution_count": 17,
   "metadata": {},
   "outputs": [
    {
     "data": {
      "text/plain": [
       "<__main__.Tracer at 0x7fdcd3cf6350>"
      ]
     },
     "execution_count": 17,
     "metadata": {},
     "output_type": "execute_result"
    }
   ],
   "source": [
    "twopoint_data.get_tracer('lens0')"
   ]
  },
  {
   "cell_type": "markdown",
   "metadata": {},
   "source": [
    "I didn't know what to use for Ngal, sigma_e, b, and AI so I didn't change their values."
   ]
  },
  {
   "cell_type": "code",
   "execution_count": 18,
   "metadata": {},
   "outputs": [],
   "source": [
    "#this function will generate and return CCL_tracer objects and also compute the noise for all the tracers\n",
    "def get_tracer_info(two_point_data={}):\n",
    "    ccl_tracers={}\n",
    "    tracer_Noise={}\n",
    "    for tracer in twopoint_data.tracers:\n",
    "        tracer_dat=twopoint_data.get_tracer(tracer)\n",
    "        z= tracer_dat.z\n",
    "        #FIXME: Following should be read from sacc dataset.\n",
    "        Ngal = 26. #arc_min^2\n",
    "        sigma_e=.26\n",
    "        b = 1.5*np.ones(len(z)) #Galaxy bias (constant with scale and z)\n",
    "        AI = .5*np.ones(len(z)) #Galaxy bias (constant with scale and z)\n",
    "        Ngal=Ngal*3600/d2r**2\n",
    "        \n",
    "        dNdz = tracer_dat.nz\n",
    "        dNdz/=(dNdz*np.gradient(z)).sum()\n",
    "        dNdz*=Ngal\n",
    "        \n",
    "        if 'source' in tracer or 'src' in tracer:  \n",
    "            ccl_tracers[tracer]=ccl.WeakLensingTracer(cosmo, dndz=(z, dNdz),ia_bias=(z,AI)) #CCL automatically normalizes dNdz\n",
    "            tracer_Noise[tracer]=sigma_e**2/Ngal\n",
    "        elif 'lens' in tracer:\n",
    "            tracer_Noise[tracer]=1./Ngal\n",
    "            ccl_tracers[tracer]=ccl.NumberCountsTracer(cosmo, has_rsd=False, dndz=(z,dNdz), bias=(z,b))\n",
    "    return ccl_tracers,tracer_Noise"
   ]
  },
  {
   "cell_type": "code",
   "execution_count": 19,
   "metadata": {},
   "outputs": [],
   "source": [
    "def get_cov_WT_spin(tracer_comb=None):\n",
    "#     tracers=tuple(i.split('_')[0] for i in tracer_comb)\n",
    "    tracers=[]\n",
    "    for i in tracer_comb:\n",
    "        if 'lens' in i:\n",
    "            tracers+=['lens']\n",
    "        if 'src' in i:\n",
    "            tracers+=['source']\n",
    "    return WT_factors[tuple(tracers)]"
   ]
  },
  {
   "cell_type": "code",
   "execution_count": 20,
   "metadata": {},
   "outputs": [],
   "source": [
    "#compute a single covariance matrix for a given pair of C_ell or xi.  \n",
    "def cl_gaussian_cov(tracer_comb1=None,tracer_comb2=None,ccl_tracers=None,tracer_Noise=None,two_point_data=None,do_xi=False,\n",
    "                    xi_plus_minus1='plus',xi_plus_minus2='plus'):  \n",
    "    #fsky should be read from the sacc\n",
    "    #tracers 1,2,3,4=tracer_comb1[0],tracer_comb1[1],tracer_comb2[0],tracer_comb2[1]\n",
    "    ell=two_point_data.metadata['ell']\n",
    "    cl={}\n",
    "    cl[13] = ccl.angular_cl(cosmo, ccl_tracers[tracer_comb1[0]], ccl_tracers[tracer_comb2[0]], ell)\n",
    "    cl[24] = ccl.angular_cl(cosmo, ccl_tracers[tracer_comb1[1]], ccl_tracers[tracer_comb2[1]], ell)\n",
    "    cl[14] = ccl.angular_cl(cosmo, ccl_tracers[tracer_comb1[0]], ccl_tracers[tracer_comb2[1]], ell)\n",
    "    cl[23] = ccl.angular_cl(cosmo, ccl_tracers[tracer_comb1[1]], ccl_tracers[tracer_comb2[0]], ell)\n",
    "    \n",
    "    SN={}\n",
    "    SN[13]=tracer_Noise[tracer_comb1[0]] if tracer_comb1[0]==tracer_comb2[0]  else 0\n",
    "    SN[24]=tracer_Noise[tracer_comb1[1]] if tracer_comb1[1]==tracer_comb2[1]  else 0\n",
    "    SN[14]=tracer_Noise[tracer_comb1[0]] if tracer_comb1[0]==tracer_comb2[1]  else 0\n",
    "    SN[23]=tracer_Noise[tracer_comb1[1]] if tracer_comb1[1]==tracer_comb2[0]  else 0\n",
    "    \n",
    "    if do_xi:\n",
    "        norm=np.pi*4*two_point_data.metadata['fsky']\n",
    "    else: #do c_ell\n",
    "        norm=(2*ell+1)*np.gradient(ell)*two_point_data.metadata['fsky']\n",
    "\n",
    "    coupling_mat={}\n",
    "    coupling_mat[1324]=np.eye(len(ell)) #placeholder\n",
    "    coupling_mat[1423]=np.eye(len(ell)) #placeholder\n",
    "    \n",
    "    cov={}\n",
    "    cov[1324]=np.outer(cl[13]+SN[13],cl[24]+SN[24])*coupling_mat[1324]\n",
    "    cov[1423]=np.outer(cl[14]+SN[14],cl[23]+SN[23])*coupling_mat[1423]\n",
    "    \n",
    "    cov['final']=cov[1423]+cov[1324]\n",
    "    \n",
    "    if do_xi:\n",
    "        s1_s2_1=get_cov_WT_spin(tracer_comb=tracer_comb1)\n",
    "        s1_s2_2=get_cov_WT_spin(tracer_comb=tracer_comb2)\n",
    "        if isinstance(s1_s2_1,dict):\n",
    "            s1_s2_1=s1_s2_1[xi_plus_minus1] \n",
    "        if isinstance(s1_s2_2,dict):\n",
    "            s1_s2_2=s1_s2_2[xi_plus_minus2] \n",
    "        th,cov['final']=WT.projected_covariance2(l_cl=ell,s1_s2=s1_s2_1, s1_s2_cross=s1_s2_2,\n",
    "                                                      cl_cov=cov['final'])\n",
    "\n",
    "    cov['final']/=norm\n",
    "    \n",
    "    if do_xi:\n",
    "        thb,cov['final_b']=bin_cov(r=th/d2r,r_bins=two_point_data.metadata['th_bins'],cov=cov['final']) \n",
    "    else:\n",
    "        if two_point_data.metadata['ell_bins'] is not None:\n",
    "            lb,cov['final_b']=bin_cov(r=ell,r_bins=two_point_data.metadata['ell_bins'],cov=cov['final']) \n",
    "            \n",
    "#     cov[1324]=None #if want to save memory\n",
    "#     cov[1423]=None #if want to save memory\n",
    "    return cov"
   ]
  },
  {
   "cell_type": "code",
   "execution_count": 21,
   "metadata": {},
   "outputs": [],
   "source": [
    "#compute all the covariances and then combine them into one single giant matrix\n",
    "def get_all_cov(two_point_data={},do_xi=False):\n",
    "    #FIXME: Only input needed should be two_point_data, which is the sacc data file. Other parameters should be included within sacc and read from there.\n",
    "    ccl_tracers,tracer_Noise=get_tracer_info(two_point_data=two_point_data)\n",
    "    tracer_combs=two_point_data.get_tracer_combinations()# we will loop over all these\n",
    "    N2pt=len(tracer_combs)\n",
    "    if two_point_data.metadata['ell_bins'] is not None:\n",
    "        Nell_bins=len(two_point_data.metadata['ell_bins'])-1\n",
    "    else:\n",
    "        Nell_bins=len(two_point_data.metadata['ell'])\n",
    "    if do_xi:\n",
    "        Nell_bins=len(two_point_data.metadata['th_bins'])-1\n",
    "    cov_full=np.zeros((Nell_bins*N2pt,Nell_bins*N2pt))\n",
    "    for i in np.arange(N2pt):\n",
    "        print(\"{}/{}\".format(i+1, N2pt))\n",
    "        tracer_comb1=tracer_combs[i]\n",
    "        indx_i=i*Nell_bins\n",
    "        for j in np.arange(i,N2pt):\n",
    "            tracer_comb2=tracer_combs[j]\n",
    "            indx_j=j*Nell_bins\n",
    "            cov_ij=cl_gaussian_cov(tracer_comb1=tracer_comb1,tracer_comb2=tracer_comb2,ccl_tracers=ccl_tracers,\n",
    "                                        tracer_Noise=tracer_Noise,do_xi=do_xi,two_point_data=two_point_data)\n",
    "            if do_xi or two_point_data.metadata['ell_bins'] is not None:\n",
    "                cov_ij=cov_ij['final_b']\n",
    "            else:\n",
    "                cov_ij=cov_ij['final']\n",
    "            cov_full[indx_i:indx_i+Nell_bins,indx_j:indx_j+Nell_bins]=cov_ij\n",
    "            cov_full[indx_j:indx_j+Nell_bins,indx_i:indx_i+Nell_bins]=cov_ij.T\n",
    "    return cov_full"
   ]
  },
  {
   "cell_type": "code",
   "execution_count": 22,
   "metadata": {},
   "outputs": [
    {
     "name": "stdout",
     "output_type": "stream",
     "text": [
      "1/18\n",
      "2/18\n",
      "3/18\n",
      "4/18\n",
      "5/18\n",
      "6/18\n",
      "7/18\n",
      "8/18\n",
      "9/18\n",
      "10/18\n",
      "11/18\n",
      "12/18\n",
      "13/18\n",
      "14/18\n",
      "15/18\n",
      "16/18\n",
      "17/18\n",
      "18/18\n",
      "1/18\n",
      "2/18\n",
      "3/18\n",
      "4/18\n",
      "5/18\n",
      "6/18\n",
      "7/18\n",
      "8/18\n",
      "9/18\n",
      "10/18\n",
      "11/18\n",
      "12/18\n",
      "13/18\n",
      "14/18\n",
      "15/18\n",
      "16/18\n",
      "17/18\n",
      "18/18\n"
     ]
    }
   ],
   "source": [
    "#C_ell covariance\n",
    "cov_cl=get_all_cov(two_point_data=twopoint_data,do_xi=False)\n",
    "#xi covariance .... right now shear-shear is xi+ only. xi- needs to be added in the loops.\n",
    "cov_xi=get_all_cov(two_point_data=twopoint_data,do_xi=True)"
   ]
  },
  {
   "cell_type": "code",
   "execution_count": 23,
   "metadata": {},
   "outputs": [
    {
     "data": {
      "text/plain": [
       "180"
      ]
     },
     "execution_count": 23,
     "metadata": {},
     "output_type": "execute_result"
    }
   ],
   "source": [
    "len(cov_xi)"
   ]
  },
  {
   "cell_type": "code",
   "execution_count": 24,
   "metadata": {},
   "outputs": [
    {
     "data": {
      "text/plain": [
       "(0.0, 432.0, 0.0, 432.0)"
      ]
     },
     "execution_count": 24,
     "metadata": {},
     "output_type": "execute_result"
    },
    {
     "data": {
      "image/png": "[encoded data removed]",
      "text/plain": [
       "<Figure size 640x480 with 1 Axes>"
      ]
     },
     "metadata": {},
     "output_type": "display_data"
    }
   ],
   "source": [
    "err=np.sqrt(np.diag(cov_cl))\n",
    "corr_m=cov_cl/np.outer(err,err)\n",
    "pcolor(corr_m,vmin=-1,vmax=1,cmap='seismic')\n",
    "axis('equal')"
   ]
  },
  {
   "cell_type": "code",
   "execution_count": 25,
   "metadata": {},
   "outputs": [
    {
     "data": {
      "text/plain": [
       "(0.0, 180.0, 0.0, 180.0)"
      ]
     },
     "execution_count": 25,
     "metadata": {},
     "output_type": "execute_result"
    },
    {
     "data": {
      "image/png": "[encoded data removed]",
      "text/plain": [
       "<Figure size 640x480 with 1 Axes>"
      ]
     },
     "metadata": {},
     "output_type": "display_data"
    }
   ],
   "source": [
    "err=np.sqrt(np.diag(cov_xi))\n",
    "corr_m=cov_xi/np.outer(err,err)\n",
    "pcolor(corr_m,vmin=-1,vmax=1,cmap='seismic')\n",
    "axis('equal')"
   ]
  },
  {
   "cell_type": "code",
   "execution_count": 33,
   "metadata": {},
   "outputs": [
    {
     "data": {
      "text/plain": [
       "(0.0, 10.0, 0.0, 10.0)"
      ]
     },
     "execution_count": 33,
     "metadata": {},
     "output_type": "execute_result"
    },
    {
     "data": {
      "image/png": "[encoded data removed]",
      "text/plain": [
       "<Figure size 640x480 with 1 Axes>"
      ]
     },
     "metadata": {},
     "output_type": "display_data"
    }
   ],
   "source": [
    "ng0_cov = cov_xi[30:40, 30:40]\n",
    "pcolor(ng0_cov,cmap='seismic')\n",
    "axis('equal')"
   ]
  },
  {
   "cell_type": "code",
   "execution_count": null,
   "metadata": {},
   "outputs": [],
   "source": [
    "err_0=np.sqrt(np.diag(ng0_cov_xi))\n",
    "corr_m_0=ng0_cov_xi/np.outer(err,err)\n",
    "pcolor(corr_m_0,vmin=-1,vmax=1,cmap='seismic')\n",
    "axis('equal')"
   ]
  },
  {
   "cell_type": "code",
   "execution_count": 34,
   "metadata": {},
   "outputs": [
    {
     "data": {
      "text/plain": [
       "array([[2.03800248e-18, 8.11551359e-18, 3.21650144e-17, 1.27338375e-16,\n",
       "        5.01906602e-16, 1.97753440e-15, 7.16562054e-15, 1.94411289e-14,\n",
       "        1.65623613e-14, 4.70088747e-15],\n",
       "       [8.11551359e-18, 3.23167226e-17, 1.28084051e-16, 5.07073150e-16,\n",
       "        1.99863854e-15, 7.87472776e-15, 2.85342148e-14, 7.74170086e-14,\n",
       "        6.59561590e-14, 1.87212244e-14],\n",
       "       [3.21650144e-17, 1.28084051e-16, 5.07648147e-16, 2.00973319e-15,\n",
       "        7.92140455e-15, 3.12107414e-14, 1.13093310e-13, 3.06844550e-13,\n",
       "        2.61462542e-13, 7.42288489e-14],\n",
       "       [1.27338375e-16, 5.07073150e-16, 2.00973319e-15, 7.95635494e-15,\n",
       "        3.13601781e-14, 1.23561394e-13, 4.47739439e-13, 1.21492824e-12,\n",
       "        1.03592310e-12, 2.94323616e-13],\n",
       "       [5.01906602e-16, 1.99863854e-15, 7.92140455e-15, 3.13601781e-14,\n",
       "        1.23607607e-13, 4.87033633e-13, 1.76498137e-12, 4.79114417e-12,\n",
       "        4.09590086e-12, 1.16727010e-12],\n",
       "       [1.97753440e-15, 7.87472776e-15, 3.12107414e-14, 1.23561394e-13,\n",
       "        4.87033633e-13, 1.91916193e-12, 6.95746990e-12, 1.89174885e-11,\n",
       "        1.63453810e-11, 4.71623016e-12],\n",
       "       [7.16562054e-15, 2.85342148e-14, 1.13093310e-13, 4.47739439e-13,\n",
       "        1.76498137e-12, 6.95746990e-12, 2.52601845e-11, 6.91418801e-11,\n",
       "        6.23140483e-11, 1.88692876e-11],\n",
       "       [1.94411289e-14, 7.74170086e-14, 3.06844550e-13, 1.21492824e-12,\n",
       "        4.79114417e-12, 1.89174885e-11, 6.91418801e-11, 1.94896190e-10,\n",
       "        2.08010033e-10, 7.56084393e-11],\n",
       "       [1.65623613e-14, 6.59561590e-14, 2.61462542e-13, 1.03592310e-12,\n",
       "        4.09590086e-12, 1.63453810e-11, 6.23140483e-11, 2.08010033e-10,\n",
       "        4.28574453e-10, 2.89016393e-10],\n",
       "       [4.70088747e-15, 1.87212244e-14, 7.42288489e-14, 2.94323616e-13,\n",
       "        1.16727010e-12, 4.71623016e-12, 1.88692876e-11, 7.56084393e-11,\n",
       "        2.89016393e-10, 6.64565455e-10]])"
      ]
     },
     "execution_count": 34,
     "metadata": {},
     "output_type": "execute_result"
    }
   ],
   "source": [
    "ng0_cov"
   ]
  },
  {
   "cell_type": "code",
   "execution_count": null,
   "metadata": {},
   "outputs": [],
   "source": []
  },
  {
   "cell_type": "code",
   "execution_count": null,
   "metadata": {},
   "outputs": [],
   "source": [
    "ng1_cov_xi = cov_xi[50:60, 50:60]\n",
    "pcolor(ng1_cov_xi,vmin=10**(-19),vmax=10**(-9),cmap='seismic')\n",
    "axis('equal')"
   ]
  },
  {
   "cell_type": "code",
   "execution_count": null,
   "metadata": {},
   "outputs": [],
   "source": [
    "err_1=np.sqrt(np.diag(ng1_cov_xi))\n",
    "corr_m_1=ng1_cov_xi/np.outer(err,err)\n",
    "pcolor(corr_m_1,vmin=-1,vmax=1,cmap='seismic')\n",
    "axis('equal')"
   ]
  },
  {
   "cell_type": "code",
   "execution_count": null,
   "metadata": {},
   "outputs": [],
   "source": [
    "ng1_cov_xi"
   ]
  },
  {
   "cell_type": "code",
   "execution_count": null,
   "metadata": {},
   "outputs": [],
   "source": [
    "corr_m_0"
   ]
  },
  {
   "cell_type": "code",
   "execution_count": null,
   "metadata": {},
   "outputs": [],
   "source": [
    "corr_m_1"
   ]
  },
  {
   "cell_type": "code",
   "execution_count": null,
   "metadata": {},
   "outputs": [],
   "source": []
  },
  {
   "cell_type": "code",
   "execution_count": null,
   "metadata": {},
   "outputs": [],
   "source": []
  }
 ],
 "metadata": {
  "kernelspec": {
   "display_name": "Python 3",
   "language": "python",
   "name": "python3"
  },
  "language_info": {
   "codemirror_mode": {
    "name": "ipython",
    "version": 3
   },
   "file_extension": ".py",
   "mimetype": "text/x-python",
   "name": "python",
   "nbconvert_exporter": "python",
   "pygments_lexer": "ipython3",
   "version": "3.7.6"
  }
 },
 "nbformat": 4,
 "nbformat_minor": 4
}
