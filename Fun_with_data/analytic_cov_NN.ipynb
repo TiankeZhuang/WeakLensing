{
 "cells": [
  {
   "cell_type": "markdown",
   "metadata": {},
   "source": [
    "# NN Corr #"
   ]
  },
  {
   "cell_type": "code",
   "execution_count": 1,
   "metadata": {},
   "outputs": [
    {
     "name": "stdout",
     "output_type": "stream",
     "text": [
      "Populating the interactive namespace from numpy and matplotlib\n"
     ]
    }
   ],
   "source": [
    "pylab inline"
   ]
  },
  {
   "cell_type": "code",
   "execution_count": 2,
   "metadata": {},
   "outputs": [],
   "source": [
    "import pyccl as ccl\n",
    "import sacc\n",
    "from tjpcov import wigner_transform, bin_cov, parse\n",
    "import pandas as pd\n",
    "from astropy.table import Table\n",
    "from astropy.io import fits\n",
    "import numpy as np\n",
    "import itertools \n",
    "from itertools import permutations\n",
    "import clustering_lensing_v5 as cl"
   ]
  },
  {
   "cell_type": "code",
   "execution_count": 3,
   "metadata": {},
   "outputs": [],
   "source": [
    "d2r = np.pi/180\n",
    "am2d = 1./60.\n",
    "wholesky = 4*(180**2)/np.pi #deg_sq\n",
    "obs_area = 136.9\n",
    "fsky = obs_area/wholesky\n",
    "\n",
    "pz_ranges = np.array([0, 0.3, 0.6, 0.9, 1.2, 1.5, np.inf])\n",
    "mag_ranges = np.array([17, 18, 19, 20, 21, 22, 23, np.inf])\n",
    "min_pz = 0\n",
    "max_pz = 1.5\n",
    "pz_bin_width = 0.05\n",
    "\n",
    "l_pz_ranges = pz_ranges[1:-2]\n",
    "s_pz_ranges = pz_ranges[1:-1]\n",
    "\n",
    "mag_lim_l = 23\n",
    "mag_lim_s = 24.5"
   ]
  },
  {
   "cell_type": "code",
   "execution_count": 4,
   "metadata": {},
   "outputs": [
    {
     "data": {
      "text/plain": [
       "'2.1.0'"
      ]
     },
     "execution_count": 4,
     "metadata": {},
     "output_type": "execute_result"
    }
   ],
   "source": [
    "ccl.__version__"
   ]
  },
  {
   "cell_type": "code",
   "execution_count": 5,
   "metadata": {},
   "outputs": [],
   "source": [
    "cosmo = ccl.Cosmology(Omega_c = 0.27, Omega_b = 0.045, h = 0.67, sigma8 = 0.83, n_s = 0.96,transfer_function='eisenstein_hu')"
   ]
  },
  {
   "cell_type": "code",
   "execution_count": 6,
   "metadata": {},
   "outputs": [],
   "source": [
    "field_name = 'ALL'\n",
    "main_path = 'Data/{}_main.fits'.format(field_name)\n",
    "main = cl.main_df_gen(main_path, pz_lim=max_pz)"
   ]
  },
  {
   "cell_type": "code",
   "execution_count": 7,
   "metadata": {},
   "outputs": [],
   "source": [
    "class Tracer:\n",
    "    def __init__(self, z, nz):\n",
    "        self.z = z\n",
    "        self.nz = nz"
   ]
  },
  {
   "cell_type": "code",
   "execution_count": 8,
   "metadata": {},
   "outputs": [],
   "source": [
    "class TwoPointData:\n",
    "    def __init__(self, df, lbins, sbins, l_pz_range, s_pz_range):\n",
    "        self.df = df\n",
    "        self.lbins = lbins\n",
    "        self.sbins = sbins\n",
    "        self.l_pz_range = l_pz_range\n",
    "        self.s_pz_range = s_pz_range\n",
    "        self.tracers = self.get_all_tracers()\n",
    "        self.metadata = dict()\n",
    "    \n",
    "    def lens_names(self):\n",
    "        names = []\n",
    "        for i in range(self.lbins):\n",
    "            names.append('lens{}'.format(i))\n",
    "        return names\n",
    "    \n",
    "    def src_names(self):\n",
    "        names = []\n",
    "        for i in range(self.sbins):\n",
    "            names.append('src{}'.format(i))\n",
    "        return names\n",
    "    \n",
    "    def get_all_tracers(self):\n",
    "        l_names = self.lens_names()\n",
    "        s_names = self.src_names()\n",
    "        df_l = self.df[self.df.imag_forced_cmodel<mag_lim_l]\n",
    "        df_s = self.df[self.df.imag_forced_cmodel<mag_lim_s]\n",
    "        tracers = dict()\n",
    "        for l in range(self.lbins):\n",
    "            dfw = df_l[df_l.pz_group == self.l_pz_range[l]]\n",
    "            nz, z= np.histogram(dfw.ephor_photoz_best,\n",
    "                                bins=np.arange(min_pz, max_pz+pz_bin_width, pz_bin_width), density=True)\n",
    "            lensTracer = Tracer(z[0:-1], nz)\n",
    "            tracers[l_names[l]]=lensTracer\n",
    "        for s in range(self.sbins):\n",
    "            dfw = df_s[df_s.pz_group == self.s_pz_range[s]]\n",
    "            nz, z= np.histogram(dfw.ephor_photoz_best,\n",
    "                                bins=np.arange(min_pz, max_pz+pz_bin_width, pz_bin_width), density=True)\n",
    "            srcTracer = Tracer(z[0:-1], nz)\n",
    "            tracers[s_names[s]]=srcTracer\n",
    "        return tracers\n",
    "    \n",
    "    def get_tracer(self, tracer_name):\n",
    "        return self.tracers[tracer_name]\n",
    "    \n",
    "    def get_tracer_combinations(self):\n",
    "        l_names = self.lens_names()\n",
    "        s_names = self.src_names()\n",
    "        combi = []\n",
    "        # First: the same lens pairs\n",
    "        for i in range(self.lbins):\n",
    "            combi.append((l_names[i], l_names[i]))\n",
    "        # Second: each lens onto each source\n",
    "        for j in range(self.lbins):\n",
    "            for k in range(self.sbins):\n",
    "                combi.append((l_names[j], s_names[k]))\n",
    "        # Third: all source combi\n",
    "        for l in range(self.sbins):\n",
    "            for m in range(self.sbins):\n",
    "                if m>=l:\n",
    "                    combi.append((s_names[l], s_names[m]))\n",
    "        return combi\n",
    "            \n",
    "        \n",
    "twopoint_data = TwoPointData(main, 3, 4, l_pz_ranges, s_pz_ranges)"
   ]
  },
  {
   "cell_type": "markdown",
   "metadata": {},
   "source": [
    "Now that I have twopoint_data, try changing it to a dictionary"
   ]
  },
  {
   "cell_type": "code",
   "execution_count": 9,
   "metadata": {},
   "outputs": [
    {
     "data": {
      "text/plain": [
       "20.0"
      ]
     },
     "execution_count": 9,
     "metadata": {},
     "output_type": "execute_result"
    }
   ],
   "source": [
    "np.sum(twopoint_data.get_tracer('lens0').nz)"
   ]
  },
  {
   "cell_type": "code",
   "execution_count": 10,
   "metadata": {},
   "outputs": [],
   "source": [
    "#FIXME: f_sky, ell_bins and th_bins should be passed by sacc. ell0 and th can be decided based on binning or can also be passed by sacc.\n",
    "twopoint_data.metadata['fsky']=fsky\n",
    "twopoint_data.metadata['ell']=np.arange(2,500)\n",
    "twopoint_data.metadata['ell_bins']=np.arange(2,500,20)\n",
    "th_min=0.1/60 # in degrees\n",
    "th_max=100./60\n",
    "n_th_bins=10\n",
    "twopoint_data.metadata['th_bins']=np.logspace(np.log10(th_min),np.log10(th_max),n_th_bins+1)\n",
    "\n",
    "th=np.logspace(np.log10(th_min*0.98),np.log10(1),n_th_bins*30) #covariance is oversampled at th values and then binned.\n",
    "th2=np.linspace(1,th_max*1.02,n_th_bins*30) #binned covariance can be sensitive to the th values. Make sue you check convergence for your application\n",
    "# th2=np.logspace(np.log10(1),np.log10(th_max),60*6)\n",
    "twopoint_data.metadata['th']=np.unique(np.sort(np.append(th,th2)))\n",
    "thb=0.5*(twopoint_data.metadata['th_bins'][1:]+twopoint_data.metadata['th_bins'][:-1])"
   ]
  },
  {
   "cell_type": "code",
   "execution_count": 11,
   "metadata": {},
   "outputs": [
    {
     "data": {
      "text/plain": [
       "array([0.00249605, 0.00498028, 0.00993696, 0.01982685, 0.03955976,\n",
       "       0.07893209, 0.15749023, 0.31423432, 0.6269799 , 1.25098936])"
      ]
     },
     "execution_count": 11,
     "metadata": {},
     "output_type": "execute_result"
    }
   ],
   "source": [
    "thb"
   ]
  },
  {
   "cell_type": "code",
   "execution_count": 12,
   "metadata": {},
   "outputs": [],
   "source": [
    "#The spin based factor to decide the wigner transform. Based on spin of tracers. Sometimes we may use s1_s2 to denote these factors\n",
    "WT_factors={}\n",
    "WT_factors['lens','source']=(0,2)\n",
    "WT_factors['source','lens']=(2,0) #same as (0,2)\n",
    "WT_factors['source','source']={'plus':(2,2),'minus':(2,-2)}\n",
    "WT_factors['lens','lens']=(0,0)"
   ]
  },
  {
   "cell_type": "code",
   "execution_count": 13,
   "metadata": {},
   "outputs": [
    {
     "name": "stdout",
     "output_type": "stream",
     "text": [
      "CPU times: user 46.9 ms, sys: 2.62 s, total: 2.67 s\n",
      "Wall time: 3.29 s\n"
     ]
    }
   ],
   "source": [
    "#### Wigner Transform setup... \n",
    "WT_kwargs={'l': twopoint_data.metadata['ell'],'theta': twopoint_data.metadata['th']*d2r,'s1_s2':[(2,2),(2,-2),(0,2),(2,0),(0,0)]}\n",
    "%time WT=wigner_transform(**WT_kwargs)"
   ]
  },
  {
   "cell_type": "code",
   "execution_count": 60,
   "metadata": {},
   "outputs": [
    {
     "data": {
      "text/plain": [
       "[('lens0', 'lens0'),\n",
       " ('lens1', 'lens1'),\n",
       " ('lens2', 'lens2'),\n",
       " ('lens0', 'src0'),\n",
       " ('lens0', 'src1'),\n",
       " ('lens0', 'src2'),\n",
       " ('lens0', 'src3'),\n",
       " ('lens1', 'src0'),\n",
       " ('lens1', 'src1'),\n",
       " ('lens1', 'src2'),\n",
       " ('lens1', 'src3'),\n",
       " ('lens2', 'src0'),\n",
       " ('lens2', 'src1'),\n",
       " ('lens2', 'src2'),\n",
       " ('lens2', 'src3'),\n",
       " ('src0', 'src0'),\n",
       " ('src0', 'src1'),\n",
       " ('src0', 'src2'),\n",
       " ('src0', 'src3'),\n",
       " ('src1', 'src1'),\n",
       " ('src1', 'src2'),\n",
       " ('src1', 'src3'),\n",
       " ('src2', 'src2'),\n",
       " ('src2', 'src3'),\n",
       " ('src3', 'src3')]"
      ]
     },
     "execution_count": 60,
     "metadata": {},
     "output_type": "execute_result"
    }
   ],
   "source": [
    "twopoint_data.get_tracer_combinations()"
   ]
  },
  {
   "cell_type": "code",
   "execution_count": 30,
   "metadata": {},
   "outputs": [
    {
     "data": {
      "text/plain": [
       "('lens2', 'src2')"
      ]
     },
     "execution_count": 30,
     "metadata": {},
     "output_type": "execute_result"
    }
   ],
   "source": [
    "a[13]"
   ]
  },
  {
   "cell_type": "code",
   "execution_count": 15,
   "metadata": {},
   "outputs": [
    {
     "data": {
      "text/plain": [
       "<__main__.Tracer at 0x7fef18e45f10>"
      ]
     },
     "execution_count": 15,
     "metadata": {},
     "output_type": "execute_result"
    }
   ],
   "source": [
    "twopoint_data.get_tracer('lens0')"
   ]
  },
  {
   "cell_type": "markdown",
   "metadata": {},
   "source": [
    "I didn't know what to use for Ngal, sigma_e, b, and AI so I didn't change their values."
   ]
  },
  {
   "cell_type": "code",
   "execution_count": 16,
   "metadata": {},
   "outputs": [],
   "source": [
    "#this function will generate and return CCL_tracer objects and also compute the noise for all the tracers\n",
    "def get_tracer_info(two_point_data={}):\n",
    "    ccl_tracers={}\n",
    "    tracer_Noise={}\n",
    "    for tracer in twopoint_data.tracers:\n",
    "        tracer_dat=twopoint_data.get_tracer(tracer)\n",
    "        z= tracer_dat.z\n",
    "        #FIXME: Following should be read from sacc dataset.\n",
    "        Ngal = 26. #arc_min^2\n",
    "        sigma_e=.26\n",
    "        b = 1.5*np.ones(len(z)) #Galaxy bias (constant with scale and z)\n",
    "        AI = .5*np.ones(len(z)) #Galaxy bias (constant with scale and z)\n",
    "        Ngal=Ngal*3600/d2r**2\n",
    "        \n",
    "        dNdz = tracer_dat.nz\n",
    "        dNdz/=(dNdz*np.gradient(z)).sum()\n",
    "        dNdz*=Ngal\n",
    "        \n",
    "        if 'source' in tracer or 'src' in tracer:  \n",
    "            ccl_tracers[tracer]=ccl.WeakLensingTracer(cosmo, dndz=(z, dNdz),ia_bias=(z,AI)) #CCL automatically normalizes dNdz\n",
    "            tracer_Noise[tracer]=sigma_e**2/Ngal\n",
    "        elif 'lens' in tracer:\n",
    "            tracer_Noise[tracer]=1./Ngal\n",
    "            ccl_tracers[tracer]=ccl.NumberCountsTracer(cosmo, has_rsd=False, dndz=(z,dNdz), bias=(z,b))\n",
    "    return ccl_tracers,tracer_Noise"
   ]
  },
  {
   "cell_type": "code",
   "execution_count": 17,
   "metadata": {},
   "outputs": [],
   "source": [
    "def get_cov_WT_spin(tracer_comb=None):\n",
    "#     tracers=tuple(i.split('_')[0] for i in tracer_comb)\n",
    "    tracers=[]\n",
    "    for i in tracer_comb:\n",
    "        if 'lens' in i:\n",
    "            tracers+=['lens']\n",
    "        if 'src' in i:\n",
    "            tracers+=['source']\n",
    "    return WT_factors[tuple(tracers)]"
   ]
  },
  {
   "cell_type": "code",
   "execution_count": 18,
   "metadata": {},
   "outputs": [],
   "source": [
    "#compute a single covariance matrix for a given pair of C_ell or xi.  \n",
    "def cl_gaussian_cov(tracer_comb1=None,tracer_comb2=None,ccl_tracers=None,tracer_Noise=None,two_point_data=None,do_xi=False,\n",
    "                    xi_plus_minus1='plus',xi_plus_minus2='plus'):  \n",
    "    #fsky should be read from the sacc\n",
    "    #tracers 1,2,3,4=tracer_comb1[0],tracer_comb1[1],tracer_comb2[0],tracer_comb2[1]\n",
    "    ell=two_point_data.metadata['ell']\n",
    "    cl={}\n",
    "    cl[13] = ccl.angular_cl(cosmo, ccl_tracers[tracer_comb1[0]], ccl_tracers[tracer_comb2[0]], ell)\n",
    "    cl[24] = ccl.angular_cl(cosmo, ccl_tracers[tracer_comb1[1]], ccl_tracers[tracer_comb2[1]], ell)\n",
    "    cl[14] = ccl.angular_cl(cosmo, ccl_tracers[tracer_comb1[0]], ccl_tracers[tracer_comb2[1]], ell)\n",
    "    cl[23] = ccl.angular_cl(cosmo, ccl_tracers[tracer_comb1[1]], ccl_tracers[tracer_comb2[0]], ell)\n",
    "    \n",
    "    SN={}\n",
    "    SN[13]=tracer_Noise[tracer_comb1[0]] if tracer_comb1[0]==tracer_comb2[0]  else 0\n",
    "    SN[24]=tracer_Noise[tracer_comb1[1]] if tracer_comb1[1]==tracer_comb2[1]  else 0\n",
    "    SN[14]=tracer_Noise[tracer_comb1[0]] if tracer_comb1[0]==tracer_comb2[1]  else 0\n",
    "    SN[23]=tracer_Noise[tracer_comb1[1]] if tracer_comb1[1]==tracer_comb2[0]  else 0\n",
    "    \n",
    "    if do_xi:\n",
    "        norm=np.pi*4*two_point_data.metadata['fsky']\n",
    "    else: #do c_ell\n",
    "        norm=(2*ell+1)*np.gradient(ell)*two_point_data.metadata['fsky']\n",
    "\n",
    "    coupling_mat={}\n",
    "    coupling_mat[1324]=np.eye(len(ell)) #placeholder\n",
    "    coupling_mat[1423]=np.eye(len(ell)) #placeholder\n",
    "    \n",
    "    cov={}\n",
    "    cov[1324]=np.outer(cl[13]+SN[13],cl[24]+SN[24])*coupling_mat[1324]\n",
    "    cov[1423]=np.outer(cl[14]+SN[14],cl[23]+SN[23])*coupling_mat[1423]\n",
    "    \n",
    "    cov['final']=cov[1423]+cov[1324]\n",
    "    \n",
    "    if do_xi:\n",
    "        s1_s2_1=get_cov_WT_spin(tracer_comb=tracer_comb1)\n",
    "        s1_s2_2=get_cov_WT_spin(tracer_comb=tracer_comb2)\n",
    "        if isinstance(s1_s2_1,dict):\n",
    "            s1_s2_1=s1_s2_1[xi_plus_minus1] \n",
    "        if isinstance(s1_s2_2,dict):\n",
    "            s1_s2_2=s1_s2_2[xi_plus_minus2] \n",
    "        th,cov['final']=WT.projected_covariance2(l_cl=ell,s1_s2=s1_s2_1, s1_s2_cross=s1_s2_2,\n",
    "                                                      cl_cov=cov['final'])\n",
    "\n",
    "    cov['final']/=norm\n",
    "    \n",
    "    if do_xi:\n",
    "        thb,cov['final_b']=bin_cov(r=th/d2r,r_bins=two_point_data.metadata['th_bins'],cov=cov['final']) \n",
    "    else:\n",
    "        if two_point_data.metadata['ell_bins'] is not None:\n",
    "            lb,cov['final_b']=bin_cov(r=ell,r_bins=two_point_data.metadata['ell_bins'],cov=cov['final']) \n",
    "            \n",
    "#     cov[1324]=None #if want to save memory\n",
    "#     cov[1423]=None #if want to save memory\n",
    "    return cov"
   ]
  },
  {
   "cell_type": "code",
   "execution_count": 19,
   "metadata": {},
   "outputs": [],
   "source": [
    "#compute all the covariances and then combine them into one single giant matrix\n",
    "def get_all_cov(two_point_data={},do_xi=False):\n",
    "    #FIXME: Only input needed should be two_point_data, which is the sacc data file. Other parameters should be included within sacc and read from there.\n",
    "    ccl_tracers,tracer_Noise=get_tracer_info(two_point_data=two_point_data)\n",
    "    tracer_combs=two_point_data.get_tracer_combinations()# we will loop over all these\n",
    "    N2pt=len(tracer_combs)\n",
    "    if two_point_data.metadata['ell_bins'] is not None:\n",
    "        Nell_bins=len(two_point_data.metadata['ell_bins'])-1\n",
    "    else:\n",
    "        Nell_bins=len(two_point_data.metadata['ell'])\n",
    "    if do_xi:\n",
    "        Nell_bins=len(two_point_data.metadata['th_bins'])-1\n",
    "    cov_full=np.zeros((Nell_bins*N2pt,Nell_bins*N2pt))\n",
    "    for i in np.arange(N2pt):\n",
    "        print(\"{}/{}\".format(i+1, N2pt))\n",
    "        tracer_comb1=tracer_combs[i]\n",
    "        indx_i=i*Nell_bins\n",
    "        for j in np.arange(i,N2pt):\n",
    "            tracer_comb2=tracer_combs[j]\n",
    "            indx_j=j*Nell_bins\n",
    "            cov_ij=cl_gaussian_cov(tracer_comb1=tracer_comb1,tracer_comb2=tracer_comb2,ccl_tracers=ccl_tracers,\n",
    "                                        tracer_Noise=tracer_Noise,do_xi=do_xi,two_point_data=two_point_data)\n",
    "            if do_xi or two_point_data.metadata['ell_bins'] is not None:\n",
    "                cov_ij=cov_ij['final_b']\n",
    "            else:\n",
    "                cov_ij=cov_ij['final']\n",
    "            cov_full[indx_i:indx_i+Nell_bins,indx_j:indx_j+Nell_bins]=cov_ij\n",
    "            cov_full[indx_j:indx_j+Nell_bins,indx_i:indx_i+Nell_bins]=cov_ij.T\n",
    "    return cov_full"
   ]
  },
  {
   "cell_type": "code",
   "execution_count": 20,
   "metadata": {},
   "outputs": [
    {
     "name": "stdout",
     "output_type": "stream",
     "text": [
      "1/25\n",
      "2/25\n",
      "3/25\n",
      "4/25\n",
      "5/25\n",
      "6/25\n",
      "7/25\n",
      "8/25\n",
      "9/25\n",
      "10/25\n",
      "11/25\n",
      "12/25\n",
      "13/25\n",
      "14/25\n",
      "15/25\n",
      "16/25\n",
      "17/25\n",
      "18/25\n",
      "19/25\n",
      "20/25\n",
      "21/25\n",
      "22/25\n",
      "23/25\n",
      "24/25\n",
      "25/25\n",
      "1/25\n",
      "2/25\n",
      "3/25\n",
      "4/25\n",
      "5/25\n",
      "6/25\n",
      "7/25\n",
      "8/25\n",
      "9/25\n",
      "10/25\n",
      "11/25\n",
      "12/25\n",
      "13/25\n",
      "14/25\n",
      "15/25\n",
      "16/25\n",
      "17/25\n",
      "18/25\n",
      "19/25\n",
      "20/25\n",
      "21/25\n",
      "22/25\n",
      "23/25\n",
      "24/25\n",
      "25/25\n"
     ]
    }
   ],
   "source": [
    "#C_ell covariance\n",
    "cov_cl=get_all_cov(two_point_data=twopoint_data,do_xi=False)\n",
    "#xi covariance .... right now shear-shear is xi+ only. xi- needs to be added in the loops.\n",
    "cov_xi=get_all_cov(two_point_data=twopoint_data,do_xi=True)"
   ]
  },
  {
   "cell_type": "code",
   "execution_count": 21,
   "metadata": {},
   "outputs": [
    {
     "data": {
      "text/plain": [
       "250"
      ]
     },
     "execution_count": 21,
     "metadata": {},
     "output_type": "execute_result"
    }
   ],
   "source": [
    "len(cov_xi)"
   ]
  },
  {
   "cell_type": "code",
   "execution_count": 22,
   "metadata": {},
   "outputs": [
    {
     "data": {
      "text/plain": [
       "(0.0, 600.0, 0.0, 600.0)"
      ]
     },
     "execution_count": 22,
     "metadata": {},
     "output_type": "execute_result"
    },
    {
     "data": {
      "image/png": "[encoded data removed]",
      "text/plain": [
       "<Figure size 640x480 with 1 Axes>"
      ]
     },
     "metadata": {},
     "output_type": "display_data"
    }
   ],
   "source": [
    "err=np.sqrt(np.diag(cov_cl))\n",
    "corr_m=cov_cl/np.outer(err,err)\n",
    "pcolor(corr_m,vmin=-1,vmax=1,cmap='seismic')\n",
    "axis('equal')"
   ]
  },
  {
   "cell_type": "code",
   "execution_count": 23,
   "metadata": {},
   "outputs": [
    {
     "data": {
      "text/plain": [
       "(0.0, 250.0, 0.0, 250.0)"
      ]
     },
     "execution_count": 23,
     "metadata": {},
     "output_type": "execute_result"
    },
    {
     "data": {
      "image/png": "[encoded data removed]",
      "text/plain": [
       "<Figure size 640x480 with 1 Axes>"
      ]
     },
     "metadata": {},
     "output_type": "display_data"
    }
   ],
   "source": [
    "err=np.sqrt(np.diag(cov_xi))\n",
    "corr_m=cov_xi/np.outer(err,err)\n",
    "pcolor(corr_m,vmin=-1,vmax=1,cmap='seismic')\n",
    "axis('equal')"
   ]
  },
  {
   "cell_type": "code",
   "execution_count": 65,
   "metadata": {},
   "outputs": [
    {
     "data": {
      "text/plain": [
       "(0.0, 10.0, 0.0, 10.0)"
      ]
     },
     "execution_count": 65,
     "metadata": {},
     "output_type": "execute_result"
    },
    {
     "data": {
      "image/png": "[encoded data removed]",
      "text/plain": [
       "<Figure size 640x480 with 1 Axes>"
      ]
     },
     "metadata": {},
     "output_type": "display_data"
    }
   ],
   "source": [
    "ng0_cov_xi = cov_xi[150:160, 150:160]\n",
    "pcolor(ng0_cov_xi,cmap='seismic')\n",
    "axis('equal')"
   ]
  },
  {
   "cell_type": "code",
   "execution_count": 56,
   "metadata": {},
   "outputs": [
    {
     "data": {
      "text/plain": [
       "(0.0, 10.0, 0.0, 10.0)"
      ]
     },
     "execution_count": 56,
     "metadata": {},
     "output_type": "execute_result"
    },
    {
     "data": {
      "image/png": "[encoded data removed]",
      "text/plain": [
       "<Figure size 640x480 with 1 Axes>"
      ]
     },
     "metadata": {},
     "output_type": "display_data"
    }
   ],
   "source": [
    "err_0=np.sqrt(np.diag(ng0_cov_xi))\n",
    "corr_m_0=ng0_cov_xi/np.outer(err,err)\n",
    "pcolor(corr_m_0,vmin=-1,vmax=1,cmap='seismic')\n",
    "axis('equal')"
   ]
  },
  {
   "cell_type": "code",
   "execution_count": 64,
   "metadata": {},
   "outputs": [
    {
     "data": {
      "text/plain": [
       "array([[1.00410099e-12, 1.00404697e-12, 1.00383317e-12, 1.00298654e-12,\n",
       "        9.99645913e-13, 9.86345502e-13, 9.37481268e-13, 7.94228456e-13,\n",
       "        6.05959862e-13, 4.72904136e-13],\n",
       "       [1.00404697e-12, 1.00399296e-12, 1.00377921e-12, 1.00293276e-12,\n",
       "        9.99592866e-13, 9.86295342e-13, 9.37441494e-13, 7.94216289e-13,\n",
       "        6.05964647e-13, 4.72903480e-13],\n",
       "       [1.00383317e-12, 1.00377921e-12, 1.00356564e-12, 1.00271993e-12,\n",
       "        9.99382917e-13, 9.86096821e-13, 9.37284072e-13, 7.94168122e-13,\n",
       "        6.05983578e-13, 4.72900884e-13],\n",
       "       [1.00298654e-12, 1.00293276e-12, 1.00271993e-12, 1.00187712e-12,\n",
       "        9.98551524e-13, 9.85310667e-13, 9.36660622e-13, 7.93977221e-13,\n",
       "        6.06058497e-13, 4.72890603e-13],\n",
       "       [9.99645913e-13, 9.99592866e-13, 9.99382917e-13, 9.98551524e-13,\n",
       "        9.95270943e-13, 9.82208367e-13, 9.34199560e-13, 7.93221372e-13,\n",
       "        6.06353334e-13, 4.72850034e-13],\n",
       "       [9.86345502e-13, 9.86295342e-13, 9.86096821e-13, 9.85310667e-13,\n",
       "        9.82208367e-13, 9.69851991e-13, 9.24383880e-13, 7.90169915e-13,\n",
       "        6.07514446e-13, 4.72688507e-13],\n",
       "       [9.37481268e-13, 9.37441494e-13, 9.37284072e-13, 9.36660622e-13,\n",
       "        9.34199560e-13, 9.24383880e-13, 8.88065935e-13, 7.78329382e-13,\n",
       "        6.11582090e-13, 4.72094730e-13],\n",
       "       [7.94228456e-13, 7.94216289e-13, 7.94168122e-13, 7.93977221e-13,\n",
       "        7.93221372e-13, 7.90169915e-13, 7.78329382e-13, 7.35503501e-13,\n",
       "        6.20565976e-13, 4.70333854e-13],\n",
       "       [6.05959862e-13, 6.05964647e-13, 6.05983578e-13, 6.06058497e-13,\n",
       "        6.06353334e-13, 6.07514446e-13, 6.11582090e-13, 6.20565976e-13,\n",
       "        5.98560289e-13, 4.67052377e-13],\n",
       "       [4.72904136e-13, 4.72903480e-13, 4.72900884e-13, 4.72890603e-13,\n",
       "        4.72850034e-13, 4.72688507e-13, 4.72094730e-13, 4.70333854e-13,\n",
       "        4.67052377e-13, 4.35777776e-13]])"
      ]
     },
     "execution_count": 64,
     "metadata": {},
     "output_type": "execute_result"
    }
   ],
   "source": [
    "ng0_cov_xi"
   ]
  },
  {
   "cell_type": "code",
   "execution_count": null,
   "metadata": {},
   "outputs": [],
   "source": []
  },
  {
   "cell_type": "code",
   "execution_count": 54,
   "metadata": {},
   "outputs": [
    {
     "data": {
      "text/plain": [
       "(0.0, 10.0, 0.0, 10.0)"
      ]
     },
     "execution_count": 54,
     "metadata": {},
     "output_type": "execute_result"
    },
    {
     "data": {
      "image/png": "[encoded data removed]",
      "text/plain": [
       "<Figure size 640x480 with 1 Axes>"
      ]
     },
     "metadata": {},
     "output_type": "display_data"
    }
   ],
   "source": [
    "ng1_cov_xi = cov_xi[50:60, 50:60]\n",
    "pcolor(ng1_cov_xi,vmin=10**(-19),vmax=10**(-9),cmap='seismic')\n",
    "axis('equal')"
   ]
  },
  {
   "cell_type": "code",
   "execution_count": 57,
   "metadata": {},
   "outputs": [
    {
     "data": {
      "text/plain": [
       "(0.0, 10.0, 0.0, 10.0)"
      ]
     },
     "execution_count": 57,
     "metadata": {},
     "output_type": "execute_result"
    },
    {
     "data": {
      "image/png": "[encoded data removed]",
      "text/plain": [
       "<Figure size 640x480 with 1 Axes>"
      ]
     },
     "metadata": {},
     "output_type": "display_data"
    }
   ],
   "source": [
    "err_1=np.sqrt(np.diag(ng1_cov_xi))\n",
    "corr_m_1=ng1_cov_xi/np.outer(err,err)\n",
    "pcolor(corr_m_1,vmin=-1,vmax=1,cmap='seismic')\n",
    "axis('equal')"
   ]
  },
  {
   "cell_type": "code",
   "execution_count": 48,
   "metadata": {},
   "outputs": [
    {
     "data": {
      "text/plain": [
       "array([[2.56647045e-18, 1.02199266e-17, 4.05057186e-17, 1.60359672e-16,\n",
       "        6.32079555e-16, 2.49072750e-15, 9.02971577e-15, 2.45548655e-14,\n",
       "        2.12545680e-14, 6.17029810e-15],\n",
       "       [1.02199266e-17, 4.06967085e-17, 1.61297580e-16, 6.38567308e-16,\n",
       "        2.51700049e-15, 9.91831567e-15, 3.59572455e-14, 9.77806001e-14,\n",
       "        8.46419192e-14, 2.45731204e-14],\n",
       "       [4.05057186e-17, 1.61297580e-16, 6.39287817e-16, 2.53090179e-15,\n",
       "        9.97589942e-15, 3.93103847e-14, 1.42514238e-13, 3.87557057e-13,\n",
       "        3.35536750e-13, 9.74311600e-14],\n",
       "       [1.60359672e-16, 6.38567308e-16, 2.53090179e-15, 1.00196905e-14,\n",
       "        3.94940490e-14, 1.55628560e-13, 5.64222064e-13, 1.53451638e-12,\n",
       "        1.32941323e-12, 3.86319508e-13],\n",
       "       [6.32079555e-16, 2.51700049e-15, 9.97589942e-15, 3.94940490e-14,\n",
       "        1.55672300e-13, 6.13449110e-13, 2.22422257e-12, 6.05166231e-12,\n",
       "        5.25641093e-12, 1.53206994e-12],\n",
       "       [2.49072750e-15, 9.91831567e-15, 3.93103847e-14, 1.55628560e-13,\n",
       "        6.13449110e-13, 2.41760298e-12, 8.76888806e-12, 2.38978379e-11,\n",
       "        2.09780512e-11, 6.18934527e-12],\n",
       "       [9.02971577e-15, 3.59572455e-14, 1.42514238e-13, 5.64222064e-13,\n",
       "        2.22422257e-12, 8.76888806e-12, 3.18533105e-11, 8.73934193e-11,\n",
       "        7.99975806e-11, 2.47508019e-11],\n",
       "       [2.45548655e-14, 9.77806001e-14, 3.87557057e-13, 1.53451638e-12,\n",
       "        6.05166231e-12, 2.38978379e-11, 8.73934193e-11, 2.46952932e-10,\n",
       "        2.67347119e-10, 9.90135244e-11],\n",
       "       [2.12545680e-14, 8.46419192e-14, 3.35536750e-13, 1.32941323e-12,\n",
       "        5.25641093e-12, 2.09780512e-11, 7.99975806e-11, 2.67347119e-10,\n",
       "        5.53633482e-10, 3.77145383e-10],\n",
       "       [6.17029810e-15, 2.45731204e-14, 9.74311600e-14, 3.86319508e-13,\n",
       "        1.53206994e-12, 6.18934527e-12, 2.47508019e-11, 9.90135244e-11,\n",
       "        3.77145383e-10, 8.64173483e-10]])"
      ]
     },
     "execution_count": 48,
     "metadata": {},
     "output_type": "execute_result"
    }
   ],
   "source": [
    "ng1_cov_xi"
   ]
  },
  {
   "cell_type": "code",
   "execution_count": 58,
   "metadata": {},
   "outputs": [
    {
     "data": {
      "text/plain": [
       "array([[0.5739227 , 0.57392197, 0.57391905, 0.57390734, 0.57385893,\n",
       "        0.57362774, 0.57214934, 0.55535243, 0.30733614, 0.06663766],\n",
       "       [0.57392197, 0.57392123, 0.57391831, 0.57390662, 0.57385826,\n",
       "        0.57362727, 0.57214967, 0.55535627, 0.30735126, 0.06664431],\n",
       "       [0.57391905, 0.57391831, 0.57391541, 0.57390377, 0.57385559,\n",
       "        0.57362538, 0.57215098, 0.55537147, 0.3074112 , 0.06667067],\n",
       "       [0.57390734, 0.57390662, 0.57390377, 0.57389232, 0.5738449 ,\n",
       "        0.57361779, 0.57215603, 0.55543167, 0.30764887, 0.06677527],\n",
       "       [0.57385893, 0.57385826, 0.57385559, 0.5738449 , 0.57380048,\n",
       "        0.57358572, 0.57217414, 0.55566888, 0.30859223, 0.06719121],\n",
       "       [0.57362774, 0.57362727, 0.57362538, 0.57361779, 0.57358572,\n",
       "        0.57342161, 0.57221618, 0.55661166, 0.3124551 , 0.06890747],\n",
       "       [0.57214934, 0.57214967, 0.57215098, 0.57215603, 0.57217414,\n",
       "        0.57221618, 0.57185039, 0.5599299 , 0.3279964 , 0.07602928],\n",
       "       [0.55535243, 0.55535627, 0.55537147, 0.55543167, 0.55566888,\n",
       "        0.55661166, 0.5599299 , 0.56445982, 0.39237683, 0.1097744 ],\n",
       "       [0.30733614, 0.30735126, 0.3074112 , 0.30764887, 0.30859223,\n",
       "        0.3124551 , 0.3279964 , 0.39237683, 0.5347383 , 0.28222625],\n",
       "       [0.06663766, 0.06664431, 0.06667067, 0.06677527, 0.06719121,\n",
       "        0.06890747, 0.07602928, 0.1097744 , 0.28222625, 0.5222983 ]])"
      ]
     },
     "execution_count": 58,
     "metadata": {},
     "output_type": "execute_result"
    }
   ],
   "source": [
    "corr_m_0"
   ]
  },
  {
   "cell_type": "code",
   "execution_count": 59,
   "metadata": {},
   "outputs": [
    {
     "data": {
      "text/plain": [
       "array([[1.        , 1.        , 0.99999998, 0.99999971, 0.99999525,\n",
       "        0.99992077, 0.9986853 , 0.97535414, 0.56386219, 0.13101998],\n",
       "       [1.        , 1.        , 0.99999999, 0.99999973, 0.99999536,\n",
       "        0.99992124, 0.9986872 , 0.97536229, 0.56389038, 0.13103285],\n",
       "       [0.99999998, 0.99999999, 1.        , 0.99999983, 0.9999958 ,\n",
       "        0.99992307, 0.99869472, 0.97539459, 0.56400208, 0.13108385],\n",
       "       [0.99999971, 0.99999973, 0.99999983, 1.        , 0.99999732,\n",
       "        0.99993013, 0.99872432, 0.97552248, 0.56444505, 0.13128618],\n",
       "       [0.99999525, 0.99999536, 0.9999958 , 0.99999732, 1.        ,\n",
       "        0.99995482, 0.99883853, 0.9760272 , 0.56620339, 0.13209076],\n",
       "       [0.99992077, 0.99992124, 0.99992307, 0.99993013, 0.99995482,\n",
       "        1.        , 0.99925136, 0.97804542, 0.573405  , 0.13541032],\n",
       "       [0.9986853 , 0.9986872 , 0.99869472, 0.99872432, 0.99883853,\n",
       "        0.99925136, 1.        , 0.98535869, 0.60240476, 0.14918031],\n",
       "       [0.97535414, 0.97536229, 0.97539459, 0.97552248, 0.9760272 ,\n",
       "        0.97804542, 0.98535869, 1.        , 0.72303154, 0.21433197],\n",
       "       [0.56386219, 0.56389038, 0.56400208, 0.56444505, 0.56620339,\n",
       "        0.573405  , 0.60240476, 0.72303154, 1.        , 0.54525186],\n",
       "       [0.13101998, 0.13103285, 0.13108385, 0.13128618, 0.13209076,\n",
       "        0.13541032, 0.14918031, 0.21433197, 0.54525186, 1.        ]])"
      ]
     },
     "execution_count": 59,
     "metadata": {},
     "output_type": "execute_result"
    }
   ],
   "source": [
    "corr_m_1"
   ]
  },
  {
   "cell_type": "code",
   "execution_count": null,
   "metadata": {},
   "outputs": [],
   "source": []
  }
 ],
 "metadata": {
  "kernelspec": {
   "display_name": "Python 3",
   "language": "python",
   "name": "python3"
  },
  "language_info": {
   "codemirror_mode": {
    "name": "ipython",
    "version": 3
   },
   "file_extension": ".py",
   "mimetype": "text/x-python",
   "name": "python",
   "nbconvert_exporter": "python",
   "pygments_lexer": "ipython3",
   "version": "3.7.6"
  }
 },
 "nbformat": 4,
 "nbformat_minor": 4
}
